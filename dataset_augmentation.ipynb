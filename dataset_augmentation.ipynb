{
 "cells": [
  {
   "cell_type": "code",
   "execution_count": 6,
   "id": "4d319c60-0b8a-495b-bbd5-e9fe834aa2c4",
   "metadata": {
    "tags": []
   },
   "outputs": [],
   "source": [
    "import os\n",
    "import numpy as np\n",
    "from PIL import Image\n",
    "import glob"
   ]
  },
  {
   "cell_type": "code",
   "execution_count": 7,
   "id": "0c0df2e1-d880-4004-969c-2ef28af83b8e",
   "metadata": {
    "tags": []
   },
   "outputs": [],
   "source": [
    "path = \"Composed_Data/\"\n",
    "files = os.listdir(path)"
   ]
  },
  {
   "cell_type": "code",
   "execution_count": 8,
   "id": "938d2128-a69e-4870-8bdf-3b360365ef45",
   "metadata": {
    "tags": []
   },
   "outputs": [],
   "source": [
    "def read_and_separate_image_pair(file):\n",
    "    image = np.asarray(Image.open(file))\n",
    "    w = image.shape[1] // 2\n",
    "    im1 = Image.fromarray(image[:, w:, :])\n",
    "    im2 = Image.fromarray(image[:, :w, :])\n",
    "    return im1, im2\n",
    "\n",
    "### Source: https://stackoverflow.com/questions/16702966/rotate-image-and-crop-out-black-borders\n",
    "def rotated_rect_with_max_area(w, h, angle):\n",
    "    \"\"\"\n",
    "    Given a rectangle of size w x h that has been rotated by 'angle' (in\n",
    "    radians), computes the width and height of the largest possible\n",
    "    axis-aligned rectangle (maximal area) within the rotated rectangle.\n",
    "    \"\"\"\n",
    "    if w <= 0 or h <= 0:\n",
    "        return 0, 0\n",
    "    \n",
    "    width_is_longer = w >= h\n",
    "    side_long, side_short = (w,h) if width_is_longer else (h,w)\n",
    "    \n",
    "    # since the solutions for angle, -angle and 180-angle are all the same,\n",
    "    # if suffices to look at the first quadrant and the absolute values of sin,cos:\n",
    "    sin_a, cos_a = abs(np.sin(angle)), abs(np.cos(angle))\n",
    "    if side_short <= 2.*sin_a*cos_a*side_long or abs(sin_a-cos_a) < 1e-10:\n",
    "        # half constrained case: two crop corners touch the longer side,\n",
    "        #   the other two corners are on the mid-line parallel to the longer line\n",
    "        x = 0.5*side_short\n",
    "        wr,hr = (x/sin_a,x/cos_a) if width_is_longer else (x/cos_a,x/sin_a)\n",
    "    else:\n",
    "        # fully constrained case: crop touches all 4 sides\n",
    "        cos_2a = cos_a*cos_a - sin_a*sin_a\n",
    "        wr,hr = (w*cos_a - h*sin_a)/cos_2a, (h*cos_a - w*sin_a)/cos_2a\n",
    "    \n",
    "    return wr, hr\n",
    "\n",
    "def random_rotate(im1, im2, max_angle=20):\n",
    "    h, w = im1.size\n",
    "    angle = 2 * max_angle * np.random.rand() - max_angle\n",
    "    wr, hr = rotated_rect_with_max_area(w, h, np.deg2rad(angle))\n",
    "    x = np.ceil((w - wr) / 2)\n",
    "    y = np.ceil((h - hr) / 2)\n",
    "    shrink = (x, y, w - x, h - y)\n",
    "    im1 = im1.rotate(angle, Image.NEAREST, expand=0).crop(shrink).resize(im1.size)\n",
    "    im2 = im2.rotate(angle, Image.NEAREST, expand=0).crop(shrink).resize(im2.size)\n",
    "    return im1, im2\n",
    "\n",
    "def random_zoom_and_crop(im1, im2, half_max_crop=0.25):\n",
    "    left = round(half_max_crop * im1.size[0] * np.random.rand())\n",
    "    right = round(im1.size[0] - half_max_crop * im1.size[0] * np.random.rand())\n",
    "    top = round(half_max_crop * im1.size[1] * np.random.rand())\n",
    "    bottom = round(im1.size[1] - half_max_crop * im1.size[1] * np.random.rand())\n",
    "    im1 = im1.crop((left, top, right, bottom)).resize(im1.size)\n",
    "    im2 = im2.crop((left, top, right, bottom)).resize(im2.size)\n",
    "    return im1, im2\n",
    "\n",
    "def horizontal_concatenation(im1, im2):\n",
    "    paired = Image.new('RGB', (im1.width + im2.width, im1.height))\n",
    "    paired.paste(im2, (0, 0))\n",
    "    paired.paste(im1, (im2.width, 0))\n",
    "    return paired"
   ]
  },
  {
   "cell_type": "code",
   "execution_count": 9,
   "id": "b488a821-936f-46bf-a8e6-ef6331f7faf4",
   "metadata": {
    "tags": []
   },
   "outputs": [],
   "source": [
    "num_of_copies = 1\n",
    "\n",
    "for file in files:\n",
    "    if '.jpg' in file:\n",
    "        for num in range(num_of_copies):\n",
    "            im1, im2 = read_and_separate_image_pair(os.path.join(path, file))\n",
    "            im1, im2 = random_rotate(im1, im2)\n",
    "            im1, im2 = random_zoom_and_crop(im1, im2)\n",
    "            paired = horizontal_concatenation(im1, im2)\n",
    "            paired.save(f\"{path}{file[:-4]}_modified{num}.jpg\")"
   ]
  },
  {
   "cell_type": "code",
   "execution_count": null,
   "id": "f2bc04d1-6c34-4a8b-ad7c-ddc316158581",
   "metadata": {},
   "outputs": [],
   "source": []
  }
 ],
 "metadata": {
  "kernelspec": {
   "display_name": "Python 3 (ipykernel)",
   "language": "python",
   "name": "python3"
  },
  "language_info": {
   "codemirror_mode": {
    "name": "ipython",
    "version": 3
   },
   "file_extension": ".py",
   "mimetype": "text/x-python",
   "name": "python",
   "nbconvert_exporter": "python",
   "pygments_lexer": "ipython3",
   "version": "3.9.16"
  }
 },
 "nbformat": 4,
 "nbformat_minor": 5
}
